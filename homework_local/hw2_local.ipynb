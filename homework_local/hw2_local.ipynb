{
 "cells": [
  {
   "cell_type": "code",
   "execution_count": null,
   "metadata": {},
   "outputs": [],
   "source": [
    "response = requests.get(\"https://en.wikipedia.org/wiki/Friedrich_Nietzsche\")\n",
    "soup = bs(response.text, \"html.parser\")\n",
    "print(soup.prettify())"
   ]
  },
  {
   "cell_type": "code",
   "execution_count": null,
   "metadata": {},
   "outputs": [],
   "source": [
    "outline_dict = {}\n",
    "\n",
    "# for rows in soup:\n",
    "#     h2_text = soup.find_all('div', attrs = {'class': 'mw-heading mw-heading2'})\n",
    "#     while row == row\n",
    "#     section = row.find('div', attrs = {'class': })\n",
    "#     if section:\n",
    "#         section_clean = section.text.strip()\n",
    "#         outline_lst.append(section_clean)\n",
    "#     else:\n",
    "#         section_clean = \"NA\"\n",
    "#         outline_lst.append(section_clean)\n",
    "\n",
    "# outline_lst\n",
    "\n",
    "h2_titles = []\n",
    "\n",
    "for row in soup.find_all('div', attrs = {'class': 'mw-content-ltr mw-parser-output'}):\n",
    "    h2_tag = row.find('div', attrs = {'class': 'mw-heading2'})\n",
    "    if h2_tag:\n",
    "        h2_title = h2_tag.text.strip('[edit]')\n",
    "        h2_titles.append(h2_title)\n",
    "    else:\n",
    "        h2_title = 'NA'\n",
    "\n",
    "h2_titles\n"
   ]
  },
  {
   "cell_type": "markdown",
   "metadata": {},
   "source": [
    "### Reflection\n",
    "Nietzsche is my favorite philosopher, so I decided I wanted to scrape his Wikipedia page. My initial idea was to pull `<p>` tags based on h2 headers that the user could define within the code. Unfortunately, Nietzsche's Wiki page is not hierarchically structured, and the `<p>` tags are not nested underneath their secion's h2 tags. After looking around other Wikipedia pages, I realized that every Wikipedia page is structured the same way. "
   ]
  },
  {
   "cell_type": "code",
   "execution_count": null,
   "metadata": {},
   "outputs": [],
   "source": []
  }
 ],
 "metadata": {
  "language_info": {
   "name": "python"
  }
 },
 "nbformat": 4,
 "nbformat_minor": 2
}
